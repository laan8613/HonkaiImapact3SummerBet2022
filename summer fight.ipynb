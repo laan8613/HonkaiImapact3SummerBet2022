{
 "cells": [
  {
   "cell_type": "code",
   "execution_count": 1,
   "metadata": {},
   "outputs": [],
   "source": [
    "import random"
   ]
  },
  {
   "cell_type": "code",
   "execution_count": 2,
   "metadata": {},
   "outputs": [],
   "source": [
    "class character:\n",
    "    def __init__(self):\n",
    "        self.life = 100\n",
    "        self.turn = 0\n",
    "        self.state = {\"confused\":  0,\n",
    "                      \"stunned\":   0,\n",
    "                      \"silence\":   0,\n",
    "                      \"clawed\":    0}\n",
    "        self.valueChange = {\"attack\": 0}\n",
    "    \n",
    "    def myTurn(self, enemy):\n",
    "        self.turn += 1\n",
    "        self.atk += self.valueChange[\"attack\"]\n",
    "        if self.state[\"clawed\"] > 0:\n",
    "            self.life -= 4\n",
    "        self.skill_turn_start(enemy)\n",
    "        if self.state[\"stunned\"] > 0:\n",
    "            pass\n",
    "            \n",
    "        if not self.state[\"silence\"] and self.turn % self.skill_turn == 0:\n",
    "            self.active_skill(enemy)\n",
    "            self.skill_after_attack(enemy)\n",
    "        else:\n",
    "            self.normal_attack(enemy)\n",
    "            self.skill_after_normal_attack(enemy)\n",
    "        self.endTurn()\n",
    "    \n",
    "    def endTurn(self):\n",
    "        for key in [\"stunned\", \"silence\", \"clawed\"]:\n",
    "            self.state[key] = max(0, self.state[key]-1)\n",
    "        self.atk -= self.valueChange[\"attack\"]\n",
    "        self.valueChange[\"attack\"] = 0\n",
    "    \n",
    "    def normal_attack(self, enemy):\n",
    "        if self.state[\"confused\"] > 0:\n",
    "            self.attacked(self.atk)\n",
    "        else:\n",
    "            enemy.attacked(self.atk)\n",
    "        \n",
    "    \n",
    "    def attacked(self, damage):\n",
    "        self.life -= damage - self.defence\n",
    "        return damage - self.defence\n",
    "        \n",
    "    def attacked_element(self, damage):\n",
    "        self.life -= damage\n",
    "        return damage\n",
    "        \n",
    "    def skill_turn_start(self, enemy):\n",
    "        return\n",
    "    \n",
    "    def active_skill(self, enemy):\n",
    "        return\n",
    "    \n",
    "    def skill_after_attack(self, enemy):\n",
    "        return\n",
    "    \n",
    "    def skill_after_normal_attack(self, enemy):\n",
    "        if self.state[\"confused\"] > 0:\n",
    "            self.state[\"confused\"] -= 1\n",
    "        return\n",
    "    \n",
    "    def show_life(self):\n",
    "        return self.life           "
   ]
  },
  {
   "cell_type": "code",
   "execution_count": 3,
   "metadata": {},
   "outputs": [],
   "source": [
    "class Kevin(character):\n",
    "    def __init__(self):\n",
    "        super().__init__()\n",
    "        self.atk = 20\n",
    "        self.defence = 11\n",
    "        self.speed = 21\n",
    "        self.skill_turn = 3\n",
    "    \n",
    "    def active_skill(self, enemy):\n",
    "        enemy.attacked_element(25)\n",
    "        self.atk += 5\n",
    "    \n",
    "    def skill_after_attack(self, enemy):\n",
    "        if enemy.life < 30 and random.randint(1,100) <= 30:\n",
    "            enemy.life = 0\n",
    "            \n",
    "    def skill_after_normal_attack(self, enemy):\n",
    "        if self.state[\"confused\"] > 0:\n",
    "            self.state[\"confused\"] -= 1\n",
    "        elif enemy.life < 30 and random.randint(1,100) <= 30:\n",
    "            enemy.life = 0"
   ]
  },
  {
   "cell_type": "code",
   "execution_count": 4,
   "metadata": {},
   "outputs": [],
   "source": [
    "class Elysia(character):\n",
    "    def __init__(self):\n",
    "        super().__init__()\n",
    "        self.atk = 21\n",
    "        self.defence = 8\n",
    "        self.speed = 20\n",
    "        self.skill_turn = 2\n",
    "    \n",
    "    def active_skill(self, enemy):\n",
    "        enemy.attacked(random.randint(25,50))\n",
    "        enemy.valueChange[\"attack\"] = -6\n",
    "    \n",
    "    def skill_after_attack(self, enemy):\n",
    "        if random.randint(1,100) <= 35:\n",
    "            enemy.attacked_element(11)\n",
    "    def skill_after_normal_attack(self, enemy):\n",
    "        if random.randint(1,100) <= 35:\n",
    "            if self.state[\"confused\"] > 0:\n",
    "                self.attacked_element(11)\n",
    "                self.state[\"confused\"] -= 1\n",
    "            else:\n",
    "                enemy.attacked_element(11)"
   ]
  },
  {
   "cell_type": "code",
   "execution_count": 38,
   "metadata": {},
   "outputs": [],
   "source": [
    "class Aponia(character):\n",
    "    def __init__(self):\n",
    "        super().__init__()\n",
    "        self.atk = 21\n",
    "        self.defence = 10\n",
    "        self.speed = 30\n",
    "        self.skill_turn = 4\n",
    "    \n",
    "    def active_skill(self, enemy):\n",
    "        enemy.attacked(int(self.atk * 1.7))\n",
    "        enemy.state[\"stunned\"] = 1\n",
    "    \n",
    "    def skill_after_attack(self, enemy):\n",
    "        if random.randint(1,100) <= 30:\n",
    "            enemy.state[\"silence\"] = 1\n",
    "    \n",
    "    def skill_after_normal_attack(self, enemy):\n",
    "        if random.randint(1,100) <= 30:\n",
    "            if self.state[\"confused\"] > 0:\n",
    "                self.state[\"silence\"] = 2\n",
    "                self.state[\"confused\"] -= 1\n",
    "            else:\n",
    "                enemy.state[\"silence\"] = 1"
   ]
  },
  {
   "cell_type": "code",
   "execution_count": 6,
   "metadata": {},
   "outputs": [],
   "source": [
    "class Eden(character):\n",
    "    def __init__(self):\n",
    "        super().__init__()\n",
    "        self.atk = 16\n",
    "        self.defence = 12\n",
    "        self.speed = 16\n",
    "        self.skill_turn = 2\n",
    "    \n",
    "    def active_skill(self, enemy):\n",
    "        self.atk += 4\n",
    "        self.normal_attack(enemy)\n",
    "        next_player = self\n",
    "    \n",
    "    def skill_after_attack(self, enemy):\n",
    "        if random.randint(1,100) <= 50:\n",
    "            self.normal_attack(enemy)\n",
    "            \n",
    "    def skill_after_normal_attack(self, enemy):\n",
    "        super().skill_after_normal_attack(enemy)\n",
    "        self.skill_after_attack(enemy)"
   ]
  },
  {
   "cell_type": "code",
   "execution_count": 7,
   "metadata": {},
   "outputs": [],
   "source": [
    "class V2V(character):\n",
    "    def __init__(self):\n",
    "        super().__init__()\n",
    "        self.atk = 20\n",
    "        self.defence = 12\n",
    "        self.speed = 25\n",
    "        self.skill_turn = 3\n",
    "        self.passive_flag = True\n",
    "    \n",
    "    def active_skill(self, enemy):\n",
    "        enemy.attacked(self.atk)\n",
    "        enemy.state[\"confused\"] = 1\n",
    "    def skill_turn_start(self, enemy):\n",
    "        if self.life < 31 and self.passive_flag:\n",
    "            self.life += random.randint(10,20)\n",
    "            enemy.life += random.randint(10,20)\n",
    "            self.atk += random.randint(2,15)\n",
    "            self.passive_flag = False"
   ]
  },
  {
   "cell_type": "code",
   "execution_count": 8,
   "metadata": {},
   "outputs": [],
   "source": [
    "class Kalpas(character):\n",
    "    def __init__(self):\n",
    "        super().__init__()\n",
    "        self.atk = 23\n",
    "        self.defence = 9\n",
    "        self.speed = 26\n",
    "        self.skill_turn = 3\n",
    "    \n",
    "    def active_skill(self, enemy):\n",
    "        if self.life > 10:\n",
    "            self.life -= 10\n",
    "            enemy.attacked(45)\n",
    "            enemy.attacked_element(random.randint(1,20))\n",
    "            self.state[\"stunned\"] = 2\n",
    "        else:\n",
    "            self.normal_attack(enemy)\n",
    "            self.skill_after_normal_attack(enemy)\n",
    "    def skill_turn_start(self, enemy):\n",
    "        self.atk = 23 + int((100-self.life) / 5)"
   ]
  },
  {
   "cell_type": "code",
   "execution_count": 9,
   "metadata": {},
   "outputs": [],
   "source": [
    "class Sakura(character):\n",
    "    def __init__(self):\n",
    "        super().__init__()\n",
    "        self.atk = 24\n",
    "        self.defence = 10\n",
    "        self.speed = 27\n",
    "        self.skill_turn = 2\n",
    "        self.miss = False\n",
    "    \n",
    "    def active_skill(self, enemy):\n",
    "        self.life = max(100, self.life + random.randint(1,5))\n",
    "        enemy.attacked(int(self.atk*1.3/1))\n",
    "        \n",
    "    def endTurn(self, enemy):\n",
    "        super().endTurn(enemy)\n",
    "        self.miss = False\n",
    "        \n",
    "    def attacked(self, damage):\n",
    "        if random.randint(1,100) > 15:\n",
    "            self.miss = True\n",
    "        if not self.miss:\n",
    "            return super().attacked(damage)\n",
    "        else:\n",
    "            return 0\n",
    "            \n",
    "    def attacked_element(self, damage):\n",
    "        if random.randint(1,100) > 15:\n",
    "            self.miss = True\n",
    "        if not self.miss:\n",
    "            return super().attacked_element(damage)\n",
    "        else:\n",
    "            return 0"
   ]
  },
  {
   "cell_type": "code",
   "execution_count": 10,
   "metadata": {},
   "outputs": [],
   "source": [
    "class Kosma(character):\n",
    "    def __init__(self):\n",
    "        super().__init__()\n",
    "        self.atk = 19\n",
    "        self.defence = 11\n",
    "        self.speed = 19\n",
    "        self.skill_turn = 2\n",
    "    \n",
    "    def active_skill(self, enemy):\n",
    "        for i in range(4):\n",
    "            value = random.randint(11,22)\n",
    "            if value < enemy.defence:\n",
    "                value = enemy.defence\n",
    "            enemy.attacked(value)\n",
    "            if i != 3:\n",
    "                self.skill_after_attack(enemy)\n",
    "            if enemy.state[\"clawed\"] > 0:\n",
    "                enemy.attacked_element(3)\n",
    "    \n",
    "    def skill_after_attack(self, enemy):\n",
    "        if random.randint(1,100) <= 15:\n",
    "            enemy.state['clawed'] = 3\n",
    "    def skill_after_normal_attack(self, enemy):\n",
    "        if random.randint(1,100) <= 15:\n",
    "            if self.state[\"confused\"] > 0:\n",
    "                self.state[\"clawed\"] = 3\n",
    "                self.state[\"confused\"] -= 1\n",
    "            else:\n",
    "                enemy.state[\"clawed\"] = 3"
   ]
  },
  {
   "cell_type": "code",
   "execution_count": 11,
   "metadata": {},
   "outputs": [],
   "source": [
    "class Mobius(character):\n",
    "    def __init__(self):\n",
    "        super().__init__()\n",
    "        self.atk = 21\n",
    "        self.defence = 11\n",
    "        self.speed = 23\n",
    "        self.skill_turn = 3\n",
    "    \n",
    "    def active_skill(self, enemy):\n",
    "        enemy.attacked(33)\n",
    "        if random.randint(1,100) <= 33:\n",
    "            enemy.state[\"stunned\"] = 1\n",
    "    \n",
    "    def skill_after_normal_attack(self, enemy):\n",
    "        if random.randint(1,100) <= 33:\n",
    "            if self.state[\"confused\"] > 0:\n",
    "                self.defence = max(0, self.defence-3)\n",
    "                self.state[\"confused\"] -= 1\n",
    "            else:\n",
    "                enemy.defence = max(0, enemy.defence-3)"
   ]
  },
  {
   "cell_type": "code",
   "execution_count": 33,
   "metadata": {},
   "outputs": [],
   "source": [
    "class Griseo(character):\n",
    "    def __init__(self, enemy):\n",
    "        super().__init__()\n",
    "        self.atk = 16\n",
    "        self.defence = 11\n",
    "        self.speed = 18\n",
    "        self.skill_turn = 3\n",
    "        self.shield = 0\n",
    "        self.defence_increase = 0\n",
    "        self.enemy = enemy\n",
    "    \n",
    "    def active_skill(self, enemy):\n",
    "        if self.shield > 0:\n",
    "            enemy.attacked(self.defence)\n",
    "        self.shield = 15\n",
    "    \n",
    "    def attacked(self, damage):\n",
    "        if self.shield == 0:\n",
    "            return super().attacked(damage)\n",
    "        else:\n",
    "            if damage - self.defence > self.shield:\n",
    "                self.shield = 0\n",
    "                self.enemy.attacked(random.randint(self.defence*2, self.defence*4))\n",
    "                return super().attacked(damage-self.shield)\n",
    "            else:\n",
    "                self.shield -= damage - self.defence\n",
    "                return 0\n",
    "    def attacked_element(self, damage):\n",
    "        if self.shield == 0:\n",
    "            return super().attacked_element(damage)\n",
    "        else:\n",
    "            if damage > self.shield:\n",
    "                self.shield = 0\n",
    "                self.enemy.attacked(random.randint(self.defence*2, self.defence*4))\n",
    "                return super().attacked_element(damage-self.shield)\n",
    "            else:\n",
    "                self.shield -= damage\n",
    "                return 0\n",
    "    def skill_turn_start(self, enemy):\n",
    "        if random.randint(1,100) <= 40:\n",
    "            if self.defence_increase < 10:\n",
    "                self.defence += 2\n",
    "                self.defence_increase += 2"
   ]
  },
  {
   "cell_type": "code",
   "execution_count": 37,
   "metadata": {},
   "outputs": [],
   "source": [
    "class Hua(character):\n",
    "    def __init__(self):\n",
    "        super().__init__()\n",
    "        self.atk = 21\n",
    "        self.defence = 12\n",
    "        self.speed = 15\n",
    "        self.skill_turn = 2\n",
    "        self.defenceUp = False\n",
    "        self.charged = False\n",
    "    \n",
    "    def active_skill(self, enemy):\n",
    "        self.defence += 3\n",
    "        self.charged = True\n",
    "        self.defenceUp = True\n",
    "        \n",
    "    def normal_attack(self, enemy):\n",
    "        if self.charged:\n",
    "            enemy.attacked_element(random.randint(10,33))\n",
    "        if self.state[\"confused\"] > 0:\n",
    "            self.attacked(self.atk)\n",
    "        else:\n",
    "            enemy.attacked(self.atk)\n",
    "    \n",
    "    def attacked(self, damage):\n",
    "        self.life -= round((damage - self.defence)*0.8)\n",
    "        return round((damage - self.defence)*0.8)\n",
    "        \n",
    "    def attacked_element(self, damage):\n",
    "        self.life -= round(damage*0.8)\n",
    "        return round(damage*0.8)\n",
    "        \n",
    "    def skill_turn_start(self, enemy):\n",
    "        if self.defenceUp:\n",
    "            self.defenceUp = False\n",
    "            self.defence -= 3"
   ]
  },
  {
   "cell_type": "code",
   "execution_count": 14,
   "metadata": {},
   "outputs": [],
   "source": [
    "class Pardofelis(character):\n",
    "    def __init__(self):\n",
    "        super().__init__()\n",
    "        self.atk = 17\n",
    "        self.defence = 10\n",
    "        self.speed = 24\n",
    "        self.skill_turn = 3\n",
    "    \n",
    "    def active_skill(self, enemy):\n",
    "        life_recover = enemy.attacked(30)\n",
    "        self.life = min(100, self.life + life_recover)\n",
    "        \n",
    "    def skill_after_attack(self, enemy):\n",
    "        if random.randint(1,100) <= 30:\n",
    "            enemy.attacked(30)\n",
    "            \n",
    "    def skill_after_normal_attack(self, enemy):\n",
    "        if random.randint(1,100) <= 30:\n",
    "            enemy.attacked(30)\n",
    "        super().skill_after_normal_attack(enemy)"
   ]
  },
  {
   "cell_type": "code",
   "execution_count": 15,
   "metadata": {},
   "outputs": [],
   "source": [
    "def run(p1, p2):\n",
    "    global next_player\n",
    "    if p1.speed > p2.speed:\n",
    "        next_player = p1\n",
    "    else:\n",
    "        next_player = p2\n",
    "    \n",
    "    while p1.life > 0 and p2.life > 0:\n",
    "        if next_player == p1:\n",
    "            p1.myTurn(p2)\n",
    "            next_player = p2\n",
    "        else:\n",
    "            p2.myTurn(p1)\n",
    "            next_player = p1\n",
    "    if p1.life <= 0:\n",
    "        return 1\n",
    "    else:\n",
    "        return 0"
   ]
  },
  {
   "cell_type": "code",
   "execution_count": 16,
   "metadata": {},
   "outputs": [],
   "source": [
    "def show(p1, p2):\n",
    "    global next_player\n",
    "    if p1.speed > p2.speed:\n",
    "        next_player = p1\n",
    "    else:\n",
    "        next_player = p2\n",
    "    \n",
    "    print(f\"P1 status atk {p1.atk:>4d} | def {p1.defence:>4d} | speed {p1.speed:>4d} | skill {p1.skill_turn:>4d}\")\n",
    "    print(f\"P2 status atk {p2.atk:>4d} | def {p2.defence:>4d} | speed {p2.speed:>4d} | skill {p2.skill_turn:>4d}\")\n",
    "    \n",
    "    while p1.life > 0 and p2.life > 0:\n",
    "        if next_player == p1:\n",
    "            print(\"P1 Turn\")\n",
    "            p1.myTurn(p2)\n",
    "            print(f\"P1 life: {p1.life:>4d}, P1 turn: {p1.turn:>4d} | P2 life: {p2.life:>4d}, P2 turn: {p2.turn:>4d}\")\n",
    "            next_player = p2\n",
    "        else:\n",
    "            print(\"P2 Turn\")\n",
    "            p2.myTurn(p1)\n",
    "            print(f\"P1 life: {p1.life:>4d}, P1 turn: {p1.turn:>4d} | P2 life: {p2.life:>4d}, P2 turn: {p2.turn:>4d}\")\n",
    "            next_player = p1\n",
    "        print(\"=\"*60)\n",
    "    if p1.life <= 0:\n",
    "        return 1\n",
    "    else:\n",
    "        return 0"
   ]
  },
  {
   "cell_type": "code",
   "execution_count": null,
   "metadata": {},
   "outputs": [],
   "source": [
    "l = [0,0]\n",
    "for i in range(100000):\n",
    "    l[run(V2V(), Kosma())] += 1\n",
    "print(l)"
   ]
  },
  {
   "cell_type": "code",
   "execution_count": 75,
   "metadata": {},
   "outputs": [
    {
     "name": "stdout",
     "output_type": "stream",
     "text": [
      "[83199, 16801]\n"
     ]
    }
   ],
   "source": [
    "l = [0,0]\n",
    "for i in range(100000):\n",
    "    l[run(Pardofelis(), Aponia())] += 1\n",
    "print(l)"
   ]
  },
  {
   "cell_type": "code",
   "execution_count": 43,
   "metadata": {},
   "outputs": [
    {
     "name": "stdout",
     "output_type": "stream",
     "text": [
      "[43476, 56524]\n"
     ]
    }
   ],
   "source": [
    "l = [0,0]\n",
    "for i in range(100000):\n",
    "    p1 = Pardofelis()\n",
    "    p2 = Griseo(p1)\n",
    "    l[run(p1, p2)] += 1\n",
    "print(l)"
   ]
  },
  {
   "cell_type": "code",
   "execution_count": 41,
   "metadata": {},
   "outputs": [
    {
     "name": "stdout",
     "output_type": "stream",
     "text": [
      "[22123, 77877]\n"
     ]
    }
   ],
   "source": [
    "l = [0,0]\n",
    "for i in range(100000):\n",
    "    p1 = Aponia()\n",
    "    p2 = Griseo(p1)\n",
    "    l[run(p1, p2)] += 1\n",
    "print(l)"
   ]
  },
  {
   "cell_type": "code",
   "execution_count": 42,
   "metadata": {},
   "outputs": [
    {
     "name": "stdout",
     "output_type": "stream",
     "text": [
      "[57292, 42708]\n"
     ]
    }
   ],
   "source": [
    "l = [0,0]\n",
    "for i in range(100000):\n",
    "    l[run(V2V(), Kosma())] += 1\n",
    "print(l)"
   ]
  },
  {
   "cell_type": "code",
   "execution_count": 14,
   "metadata": {},
   "outputs": [
    {
     "name": "stdout",
     "output_type": "stream",
     "text": [
      "[52037, 47963]\n"
     ]
    }
   ],
   "source": [
    "l = [0,0]\n",
    "for i in range(100000):\n",
    "    l[run(Kosma(), Kevin())] += 1\n",
    "print(l)"
   ]
  },
  {
   "cell_type": "code",
   "execution_count": 13,
   "metadata": {},
   "outputs": [
    {
     "name": "stdout",
     "output_type": "stream",
     "text": [
      "[34891, 65109]\n"
     ]
    }
   ],
   "source": [
    "l = [0,0]\n",
    "for i in range(100000):\n",
    "    l[run(Kevin(), V2V())] += 1\n",
    "print(l)"
   ]
  }
 ],
 "metadata": {
  "kernelspec": {
   "display_name": "Python 3",
   "language": "python",
   "name": "python3"
  },
  "language_info": {
   "codemirror_mode": {
    "name": "ipython",
    "version": 3
   },
   "file_extension": ".py",
   "mimetype": "text/x-python",
   "name": "python",
   "nbconvert_exporter": "python",
   "pygments_lexer": "ipython3",
   "version": "3.6.8"
  }
 },
 "nbformat": 4,
 "nbformat_minor": 2
}
