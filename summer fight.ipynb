{
 "cells": [
  {
   "cell_type": "code",
   "execution_count": 1,
   "metadata": {},
   "outputs": [],
   "source": [
    "import random"
   ]
  },
  {
   "cell_type": "code",
   "execution_count": 2,
   "metadata": {},
   "outputs": [],
   "source": [
    "class character:\n",
    "    def __init__(self):\n",
    "        self.life = 100\n",
    "        self.turn = 0\n",
    "        self.state = {\"confused\":  0,\n",
    "                      \"stunned\":   0,\n",
    "                      \"silence\":   0,\n",
    "                      \"clawed\":    0}\n",
    "        self.valueChange = {\"attack\": 0}\n",
    "    \n",
    "    def myTurn(self, enemy):\n",
    "        self.turn += 1\n",
    "        self.atk += self.valueChange[\"attack\"]\n",
    "        if self.state[\"clawed\"] > 0:\n",
    "            self.life -= 4\n",
    "        if self.state[\"stunned\"] > 0:\n",
    "            self.endTurn()\n",
    "            return\n",
    "        self.skill_turn_start(enemy)\n",
    "            \n",
    "        if not self.state[\"silence\"] and self.turn % self.skill_turn == 0:\n",
    "            self.active_skill(enemy)\n",
    "            self.skill_after_attack(enemy)\n",
    "        else:\n",
    "            self.normal_attack(enemy)\n",
    "            self.skill_after_normal_attack(enemy)\n",
    "        self.endTurn()\n",
    "    \n",
    "    def endTurn(self):\n",
    "        for key in [\"stunned\", \"silence\", \"clawed\"]:\n",
    "            self.state[key] = max(0, self.state[key]-1)\n",
    "        self.atk -= self.valueChange[\"attack\"]\n",
    "        self.valueChange[\"attack\"] = 0\n",
    "    \n",
    "    def normal_attack(self, enemy):\n",
    "        if self.state[\"confused\"] > 0:\n",
    "            self.attacked(self.atk)\n",
    "        else:\n",
    "            enemy.attacked(self.atk)\n",
    "        \n",
    "    \n",
    "    def attacked(self, physical=0, element=0):\n",
    "        self.life -= max(0, physical - self.defence) + element\n",
    "        return max(0, physical - self.defence) + element\n",
    "        \n",
    "    def skill_turn_start(self, enemy):\n",
    "        return\n",
    "    \n",
    "    def active_skill(self, enemy):\n",
    "        return\n",
    "    \n",
    "    def skill_after_attack(self, enemy):\n",
    "        return\n",
    "    \n",
    "    def skill_after_normal_attack(self, enemy):\n",
    "        if self.state[\"confused\"] > 0:\n",
    "            self.state[\"confused\"] -= 1\n",
    "        return\n",
    "    \n",
    "    def show_life(self):\n",
    "        return self.life           "
   ]
  },
  {
   "cell_type": "code",
   "execution_count": 3,
   "metadata": {},
   "outputs": [],
   "source": [
    "class Kevin(character):\n",
    "    def __init__(self):\n",
    "        super().__init__()\n",
    "        self.atk = 20\n",
    "        self.defence = 11\n",
    "        self.speed = 21\n",
    "        self.skill_turn = 3\n",
    "        self.name = \"Kevin\"\n",
    "    \n",
    "    def active_skill(self, enemy):\n",
    "        enemy.attacked(element = 25)\n",
    "        self.atk += 5\n",
    "    \n",
    "    def skill_after_attack(self, enemy):\n",
    "        if enemy.life < 30 and random.randint(1,100) <= 30:\n",
    "            enemy.life = 0\n",
    "            \n",
    "    def skill_after_normal_attack(self, enemy):\n",
    "        if self.state[\"confused\"] > 0:\n",
    "            self.state[\"confused\"] -= 1\n",
    "        elif not self.state[\"silence\"] and enemy.life < 30 and random.randint(1,100) <= 30:\n",
    "            enemy.life = 0"
   ]
  },
  {
   "cell_type": "code",
   "execution_count": 4,
   "metadata": {},
   "outputs": [],
   "source": [
    "class Elysia(character):\n",
    "    def __init__(self):\n",
    "        super().__init__()\n",
    "        self.atk = 21\n",
    "        self.defence = 8\n",
    "        self.speed = 20\n",
    "        self.skill_turn = 2\n",
    "        self.name = \"Elysia\"\n",
    "    \n",
    "    def active_skill(self, enemy):\n",
    "        enemy.attacked(random.randint(25,50))\n",
    "        enemy.valueChange[\"attack\"] = -6\n",
    "    \n",
    "    def skill_after_attack(self, enemy):\n",
    "        if random.randint(1,100) <= 35:\n",
    "            enemy.attacked(element = 11)\n",
    "    def skill_after_normal_attack(self, enemy):\n",
    "        if not self.state[\"silence\"] and random.randint(1,100) <= 35:\n",
    "            if self.state[\"confused\"] > 0:\n",
    "                self.attacked(element=11)\n",
    "                self.state[\"confused\"] -= 1\n",
    "            else:\n",
    "                enemy.attacked(element=11)\n",
    "        else:\n",
    "            super().skill_after_normal_attack(enemy)"
   ]
  },
  {
   "cell_type": "code",
   "execution_count": 5,
   "metadata": {},
   "outputs": [],
   "source": [
    "class Aponia(character):\n",
    "    def __init__(self):\n",
    "        super().__init__()\n",
    "        self.atk = 21\n",
    "        self.defence = 10\n",
    "        self.speed = 30\n",
    "        self.skill_turn = 4\n",
    "        self.name = \"Aponia\"\n",
    "    \n",
    "    def active_skill(self, enemy):\n",
    "        enemy.attacked(int(self.atk * 1.7))\n",
    "        enemy.state[\"stunned\"] = 1\n",
    "    \n",
    "    def skill_after_attack(self, enemy):\n",
    "        if random.randint(1,100) <= 30:\n",
    "            enemy.state[\"silence\"] = 1\n",
    "    \n",
    "    def skill_after_normal_attack(self, enemy):\n",
    "        if not self.state[\"silence\"] and random.randint(1,100) <= 30:\n",
    "            if self.state[\"confused\"] > 0:\n",
    "                self.state[\"silence\"] = 2\n",
    "                self.state[\"confused\"] -= 1\n",
    "            else:\n",
    "                enemy.state[\"silence\"] = 1"
   ]
  },
  {
   "cell_type": "code",
   "execution_count": 6,
   "metadata": {},
   "outputs": [],
   "source": [
    "class Eden(character):\n",
    "    def __init__(self):\n",
    "        super().__init__()\n",
    "        self.atk = 16\n",
    "        self.defence = 12\n",
    "        self.speed = 16\n",
    "        self.skill_turn = 2\n",
    "        self.name = \"Eden\"\n",
    "    \n",
    "    def active_skill(self, enemy):\n",
    "        self.atk += 4\n",
    "        self.normal_attack(enemy)\n",
    "        global First_player\n",
    "        global Second_player\n",
    "        global Eden_skill\n",
    "        First_player = self\n",
    "        Second_player = enemy\n",
    "        Eden_skill = True\n",
    "    \n",
    "    def skill_after_attack(self, enemy):\n",
    "        super().skill_after_normal_attack(enemy)\n",
    "        if random.randint(1,100) <= 50:\n",
    "            self.normal_attack(enemy)\n",
    "            \n",
    "    def skill_after_normal_attack(self, enemy):\n",
    "        super().skill_after_normal_attack(enemy)\n",
    "        if not self.state[\"silence\"] and random.randint(1,100) <= 50:\n",
    "            self.normal_attack(enemy)"
   ]
  },
  {
   "cell_type": "code",
   "execution_count": 7,
   "metadata": {},
   "outputs": [],
   "source": [
    "class V2V(character):\n",
    "    def __init__(self):\n",
    "        super().__init__()\n",
    "        self.atk = 20\n",
    "        self.defence = 12\n",
    "        self.speed = 25\n",
    "        self.skill_turn = 3\n",
    "        self.passive_flag = True\n",
    "        self.name = \"V2V\"\n",
    "    \n",
    "    def active_skill(self, enemy):\n",
    "        enemy.attacked(self.atk)\n",
    "        enemy.state[\"confused\"] = 1\n",
    "    def skill_turn_start(self, enemy):\n",
    "        if not self.state[\"silence\"] and self.life < 31 and self.passive_flag:\n",
    "            self.life = min(100, self.life + random.randint(10,20))\n",
    "            enemy.life = min(100, enemy.life + random.randint(10,20))\n",
    "            self.atk += random.randint(2,15)\n",
    "            self.passive_flag = False"
   ]
  },
  {
   "cell_type": "code",
   "execution_count": 8,
   "metadata": {},
   "outputs": [],
   "source": [
    "class Kalpas(character):\n",
    "    def __init__(self):\n",
    "        super().__init__()\n",
    "        self.atk = 23\n",
    "        self.defence = 9\n",
    "        self.speed = 26\n",
    "        self.skill_turn = 3\n",
    "        self.name = \"Kalpas\"\n",
    "    \n",
    "    def active_skill(self, enemy):\n",
    "        if self.life > 10:\n",
    "            self.life -= 10\n",
    "            enemy.attacked(45, random.randint(1,20))\n",
    "            self.state[\"stunned\"] = 2\n",
    "        else:\n",
    "            self.normal_attack(enemy)\n",
    "            self.skill_after_normal_attack(enemy)\n",
    "    def skill_turn_start(self, enemy):\n",
    "        self.atk = 23 + int((100-self.life) / 5)"
   ]
  },
  {
   "cell_type": "code",
   "execution_count": 9,
   "metadata": {},
   "outputs": [],
   "source": [
    "class Sakura(character):\n",
    "    def __init__(self):\n",
    "        super().__init__()\n",
    "        self.atk = 24\n",
    "        self.defence = 10\n",
    "        self.speed = 27\n",
    "        self.skill_turn = 2\n",
    "        self.miss = False\n",
    "        self.name = \"Sakura\"\n",
    "    \n",
    "    def active_skill(self, enemy):\n",
    "        self.life = min(100, self.life + random.randint(1,5))\n",
    "        enemy.attacked(int(self.atk*1.3))\n",
    "        \n",
    "    def skill_turn_start(self, enemy):\n",
    "        self.miss = False\n",
    "        return\n",
    "    \n",
    "    def endTurn(self):\n",
    "        super().endTurn()\n",
    "        self.miss = False\n",
    "        \n",
    "    def attacked(self, physical=0, element=0):\n",
    "        if random.randint(1,100) < 15:\n",
    "            self.miss = True\n",
    "        if self.miss:\n",
    "            return 0\n",
    "        else:\n",
    "            return super().attacked(physical, element)"
   ]
  },
  {
   "cell_type": "code",
   "execution_count": 10,
   "metadata": {},
   "outputs": [],
   "source": [
    "class Sakura2(character):\n",
    "    def __init__(self):\n",
    "        super().__init__()\n",
    "        self.atk = 24\n",
    "        self.defence = 10\n",
    "        self.speed = 27\n",
    "        self.skill_turn = 2\n",
    "        self.name = \"Sakura\"\n",
    "    \n",
    "    def active_skill(self, enemy):\n",
    "        self.life = min(100, self.life + random.randint(1,5))\n",
    "        enemy.attacked(int(self.atk*1.3))\n",
    "        \n",
    "    \n",
    "    def endTurn(self):\n",
    "        super().endTurn()\n",
    "        \n",
    "    def attacked(self, physical=0, element=0):\n",
    "        if random.randint(1,100) < 15:\n",
    "            return 0\n",
    "        else:\n",
    "            return super().attacked(physical, element)"
   ]
  },
  {
   "cell_type": "code",
   "execution_count": 11,
   "metadata": {},
   "outputs": [],
   "source": [
    "class Kosma(character):\n",
    "    def __init__(self):\n",
    "        super().__init__()\n",
    "        self.atk = 19\n",
    "        self.defence = 11\n",
    "        self.speed = 19\n",
    "        self.skill_turn = 2\n",
    "        self.name = \"Kosma\"\n",
    "    \n",
    "    def active_skill(self, enemy):\n",
    "        for i in range(4):\n",
    "            if enemy.state[\"clawed\"] > 0:\n",
    "                enemy.attacked(physical = random.randint(11,22), element = 3)\n",
    "            else:\n",
    "                enemy.attacked(random.randint(11,22))\n",
    "            if i != 3:\n",
    "                self.skill_after_attack(enemy)         \n",
    "    \n",
    "    def skill_after_attack(self, enemy):\n",
    "        if random.randint(1,100) <= 15:\n",
    "            enemy.state['clawed'] = 3\n",
    "    def skill_after_normal_attack(self, enemy):\n",
    "        if not self.state[\"silence\"] and random.randint(1,100) <= 15:\n",
    "            if self.state[\"confused\"] > 0:\n",
    "                self.state[\"clawed\"] = 3\n",
    "                self.state[\"confused\"] -= 1\n",
    "            else:\n",
    "                enemy.state[\"clawed\"] = 3"
   ]
  },
  {
   "cell_type": "code",
   "execution_count": 12,
   "metadata": {},
   "outputs": [],
   "source": [
    "class Mobius(character):\n",
    "    def __init__(self):\n",
    "        super().__init__()\n",
    "        self.atk = 21\n",
    "        self.defence = 11\n",
    "        self.speed = 23\n",
    "        self.skill_turn = 3\n",
    "        self.name = \"Mobius\"\n",
    "    \n",
    "    def active_skill(self, enemy):\n",
    "        enemy.attacked(33)\n",
    "        if random.randint(1,100) <= 33:\n",
    "            enemy.state[\"stunned\"] = 1\n",
    "    \n",
    "    def skill_after_normal_attack(self, enemy):\n",
    "        if not self.state[\"silence\"] and random.randint(1,100) <= 33:\n",
    "            if self.state[\"confused\"] > 0:\n",
    "                self.defence = max(0, self.defence-3)\n",
    "                self.state[\"confused\"] -= 1\n",
    "            else:\n",
    "                enemy.defence = max(0, enemy.defence-3)"
   ]
  },
  {
   "cell_type": "code",
   "execution_count": 13,
   "metadata": {},
   "outputs": [],
   "source": [
    "class Griseo(character):\n",
    "    def __init__(self, enemy):\n",
    "        super().__init__()\n",
    "        self.atk = 16\n",
    "        self.defence = 11\n",
    "        self.speed = 18\n",
    "        self.skill_turn = 3\n",
    "        self.shield = 0\n",
    "        self.defence_increase = 0\n",
    "        self.enemy = enemy\n",
    "        self.name = \"Griseo\"\n",
    "    \n",
    "    def active_skill(self, enemy):\n",
    "        if self.shield > 0:\n",
    "            enemy.attacked(self.defence)\n",
    "        self.shield = 15\n",
    "    \n",
    "    def attacked(self, physical=0, element=0):\n",
    "        if self.shield == 0:\n",
    "            return super().attacked(physical, element)\n",
    "        else:\n",
    "            if max(0, physical - self.defence) + element > self.shield:\n",
    "                self.shield = 0\n",
    "                self.enemy.attacked(random.randint(self.defence*2, self.defence*4))\n",
    "                return super().attacked(0, max(0, physical - self.defence) + element)\n",
    "            else:\n",
    "                self.shield -= (max(0, physical - self.defence) + element)\n",
    "                return 0\n",
    "    \n",
    "    def skill_turn_start(self, enemy):\n",
    "        if not self.state[\"silence\"] and not self.state[\"stunned\"] and random.randint(1,100) <= 40:\n",
    "            if self.defence_increase < 10:\n",
    "                self.defence += 2\n",
    "                self.defence_increase += 2"
   ]
  },
  {
   "cell_type": "code",
   "execution_count": 14,
   "metadata": {},
   "outputs": [],
   "source": [
    "class Hua(character):\n",
    "    def __init__(self):\n",
    "        super().__init__()\n",
    "        self.atk = 21\n",
    "        self.defence = 12\n",
    "        self.speed = 15\n",
    "        self.skill_turn = 2\n",
    "        self.defenceUp = False\n",
    "        self.charged = False\n",
    "        self.name = \"Hua\"\n",
    "    \n",
    "    def active_skill(self, enemy):\n",
    "        self.defence += 3\n",
    "        self.charged = True\n",
    "        self.defenceUp = True\n",
    "        \n",
    "    def normal_attack(self, enemy):\n",
    "        if self.charged:\n",
    "            enemy.attacked(element=random.randint(10,33))\n",
    "        if self.state[\"confused\"] > 0:\n",
    "            self.attacked(self.atk)\n",
    "        else:\n",
    "            enemy.attacked(self.atk)\n",
    "    \n",
    "    def attacked(self, physical=0, element=0):\n",
    "        self.life -= round((max(0, physical - self.defence) + element)*0.8)\n",
    "        return round((max(0, physical - self.defence) + element)*0.8)\n",
    "\n",
    "        \n",
    "    def skill_turn_start(self, enemy):\n",
    "        if self.defenceUp:\n",
    "            self.defenceUp = False\n",
    "            self.defence = max(0, self.defence - 3)"
   ]
  },
  {
   "cell_type": "code",
   "execution_count": 15,
   "metadata": {},
   "outputs": [],
   "source": [
    "class Pardofelis(character):\n",
    "    def __init__(self):\n",
    "        super().__init__()\n",
    "        self.atk = 17\n",
    "        self.defence = 10\n",
    "        self.speed = 24\n",
    "        self.skill_turn = 3\n",
    "        self.name = \"Pardofelis\"\n",
    "    \n",
    "    def active_skill(self, enemy):\n",
    "        life_recover = enemy.attacked(30)\n",
    "        self.life = min(100, self.life + life_recover)\n",
    "        \n",
    "    def skill_after_attack(self, enemy):\n",
    "        if random.randint(1,100) <= 30:\n",
    "            enemy.attacked(30)\n",
    "            \n",
    "    def skill_after_normal_attack(self, enemy):\n",
    "        if not self.state[\"silence\"] and random.randint(1,100) <= 30:\n",
    "            enemy.attacked(30)\n",
    "        super().skill_after_normal_attack(enemy)"
   ]
  },
  {
   "cell_type": "code",
   "execution_count": 16,
   "metadata": {},
   "outputs": [],
   "source": [
    "def run(p1, p2):\n",
    "    global First_player\n",
    "    global Second_player\n",
    "    global Eden_skill\n",
    "    Eden_skill = False\n",
    "    \n",
    "    while p1.life > 0 and p2.life > 0:\n",
    "        if Eden_skill:\n",
    "            Eden_skill = False\n",
    "        else:\n",
    "            if p1.speed > p2.speed:\n",
    "                First_player = p1\n",
    "                Second_player = p2\n",
    "            else:\n",
    "                First_player = p2\n",
    "                Second_player = p1\n",
    "        First_player.myTurn(Second_player)\n",
    "        if p1.life <= 0 or p2.life <= 0:\n",
    "            break\n",
    "        Second_player.myTurn(First_player)\n",
    "    if p1.life <= 0:\n",
    "        return 1\n",
    "    else:\n",
    "        return 0"
   ]
  },
  {
   "cell_type": "code",
   "execution_count": 17,
   "metadata": {},
   "outputs": [],
   "source": [
    "def show(p1, p2):\n",
    "    global First_player\n",
    "    global Second_player\n",
    "    global Eden_skill\n",
    "    Eden_skill = False\n",
    "    \n",
    "    print(f\"P1 status atk {p1.atk:>4d} | def {p1.defence:>4d} | speed {p1.speed:>4d} | skill {p1.skill_turn:>4d}\")\n",
    "    print(f\"P2 status atk {p2.atk:>4d} | def {p2.defence:>4d} | speed {p2.speed:>4d} | skill {p2.skill_turn:>4d}\")\n",
    "    \n",
    "    while p1.life > 0 and p2.life > 0:\n",
    "        if Eden_skill:\n",
    "            Eden_skill = False\n",
    "        else:\n",
    "            if p1.speed > p2.speed:\n",
    "                First_player = p1\n",
    "                Second_player = p2\n",
    "            else:\n",
    "                First_player = p2\n",
    "                Second_player = p1\n",
    "        print(f\"{First_player.name} Turn\")\n",
    "        First_player.myTurn(Second_player)\n",
    "        print(f\"P1 life: {p1.life:>4d}, atk: {p1.atk:>4d}, def: {p1.defence:>4d}, turn: {p1.turn:>4d} | P2 life: {p2.life:>4d}, atk: {p2.atk:>4d}, def: {p2.defence:>4d}, turn: {p2.turn:>4d}\")\n",
    "        if p1.life <= 0 or p2.life <= 0:\n",
    "            break\n",
    "        print(f\"{Second_player.name} Turn\")\n",
    "        Second_player.myTurn(First_player)\n",
    "        print(f\"P1 life: {p1.life:>4d}, atk: {p1.atk:>4d}, def: {p1.defence:>4d}, turn: {p1.turn:>4d} | P2 life: {p2.life:>4d}, atk: {p2.atk:>4d}, def: {p2.defence:>4d}, turn: {p2.turn:>4d}\")\n",
    "        print(\"=\"*60)\n",
    "\n",
    "    if p1.life <= 0:\n",
    "        print(\"P2 win\")\n",
    "        return 1\n",
    "    else:\n",
    "        print(\"P1 win\")\n",
    "        return 0"
   ]
  },
  {
   "cell_type": "markdown",
   "metadata": {},
   "source": [
    "# Day 8"
   ]
  },
  {
   "cell_type": "code",
   "execution_count": 18,
   "metadata": {},
   "outputs": [
    {
     "name": "stdout",
     "output_type": "stream",
     "text": [
      "[49659, 50341]\n"
     ]
    }
   ],
   "source": [
    "l = [0,0]\n",
    "for i in range(100000):\n",
    "    l[run(Aponia(), Pardofelis())] += 1\n",
    "print(l)"
   ]
  },
  {
   "cell_type": "markdown",
   "metadata": {},
   "source": [
    "# Day 7"
   ]
  },
  {
   "cell_type": "code",
   "execution_count": 21,
   "metadata": {},
   "outputs": [
    {
     "name": "stdout",
     "output_type": "stream",
     "text": [
      "[50193, 49807]\n"
     ]
    }
   ],
   "source": [
    "l = [0,0]\n",
    "for i in range(100000):\n",
    "    l[run(Pardofelis(), Eden())] += 1\n",
    "print(l)"
   ]
  },
  {
   "cell_type": "code",
   "execution_count": 20,
   "metadata": {},
   "outputs": [
    {
     "name": "stdout",
     "output_type": "stream",
     "text": [
      "[59963, 40037]\n"
     ]
    }
   ],
   "source": [
    "l = [0,0]\n",
    "for i in range(100000):\n",
    "    l[run(Elysia(), Aponia())] += 1\n",
    "print(l)"
   ]
  },
  {
   "cell_type": "markdown",
   "metadata": {},
   "source": [
    "# Day 6"
   ]
  },
  {
   "cell_type": "code",
   "execution_count": 20,
   "metadata": {},
   "outputs": [
    {
     "name": "stdout",
     "output_type": "stream",
     "text": [
      "[49392, 50608]\n"
     ]
    }
   ],
   "source": [
    "l = [0,0]\n",
    "for i in range(100000):\n",
    "    l[run(Mobius(), Eden())] += 1\n",
    "print(l)"
   ]
  },
  {
   "cell_type": "code",
   "execution_count": 19,
   "metadata": {},
   "outputs": [
    {
     "name": "stdout",
     "output_type": "stream",
     "text": [
      "[52835, 47165]\n"
     ]
    }
   ],
   "source": [
    "l = [0,0]\n",
    "for i in range(100000):\n",
    "    l[run(Kalpas(), Pardofelis())] += 1\n",
    "print(l)"
   ]
  },
  {
   "cell_type": "markdown",
   "metadata": {},
   "source": [
    "# Day 5"
   ]
  },
  {
   "cell_type": "code",
   "execution_count": 54,
   "metadata": {},
   "outputs": [
    {
     "name": "stdout",
     "output_type": "stream",
     "text": [
      "[63334, 36666]\n"
     ]
    }
   ],
   "source": [
    "l = [0,0]\n",
    "for i in range(100000):\n",
    "    l[run(Aponia(), Kosma())] += 1\n",
    "print(l)"
   ]
  },
  {
   "cell_type": "code",
   "execution_count": null,
   "metadata": {},
   "outputs": [],
   "source": [
    "show(Aponia(), Kosma())"
   ]
  },
  {
   "cell_type": "code",
   "execution_count": 39,
   "metadata": {},
   "outputs": [
    {
     "name": "stdout",
     "output_type": "stream",
     "text": [
      "[46577, 53423]\n"
     ]
    }
   ],
   "source": [
    "l = [0,0]\n",
    "for i in range(100000):\n",
    "    l[run(V2V(), Elysia())] += 1\n",
    "print(l)"
   ]
  },
  {
   "cell_type": "markdown",
   "metadata": {},
   "source": [
    "# Day 4"
   ]
  },
  {
   "cell_type": "code",
   "execution_count": 34,
   "metadata": {},
   "outputs": [
    {
     "name": "stdout",
     "output_type": "stream",
     "text": [
      "[35772, 64228]\n"
     ]
    }
   ],
   "source": [
    "l = [0,0]\n",
    "for i in range(100000):\n",
    "    l[run(Sakura2(), Eden())] += 1\n",
    "print(l)"
   ]
  },
  {
   "cell_type": "code",
   "execution_count": 31,
   "metadata": {},
   "outputs": [
    {
     "name": "stdout",
     "output_type": "stream",
     "text": [
      "[51246, 48754]\n"
     ]
    }
   ],
   "source": [
    "l = [0,0]\n",
    "for i in range(100000):\n",
    "    l[run(Kalpas(), Sakura())] += 1\n",
    "print(l)"
   ]
  },
  {
   "cell_type": "code",
   "execution_count": 30,
   "metadata": {},
   "outputs": [
    {
     "name": "stdout",
     "output_type": "stream",
     "text": [
      "[46855, 53145]\n"
     ]
    }
   ],
   "source": [
    "l = [0,0]\n",
    "for i in range(100000):\n",
    "    l[run(Eden(), Kalpas())] += 1\n",
    "print(l)"
   ]
  },
  {
   "cell_type": "markdown",
   "metadata": {},
   "source": [
    "# Day 3"
   ]
  },
  {
   "cell_type": "code",
   "execution_count": 23,
   "metadata": {},
   "outputs": [
    {
     "name": "stdout",
     "output_type": "stream",
     "text": [
      "[43081, 56919]\n"
     ]
    }
   ],
   "source": [
    "l = [0,0]\n",
    "for i in range(100000):\n",
    "    l[run(Mobius(), Hua())] += 1\n",
    "print(l)"
   ]
  },
  {
   "cell_type": "code",
   "execution_count": 68,
   "metadata": {},
   "outputs": [
    {
     "name": "stdout",
     "output_type": "stream",
     "text": [
      "[35705, 64295]\n"
     ]
    }
   ],
   "source": [
    "l = [0,0]\n",
    "for i in range(100000):\n",
    "    l[run(Hua(), Elysia())] += 1\n",
    "print(l)"
   ]
  },
  {
   "cell_type": "code",
   "execution_count": 67,
   "metadata": {},
   "outputs": [
    {
     "name": "stdout",
     "output_type": "stream",
     "text": [
      "[54773, 45227]\n"
     ]
    }
   ],
   "source": [
    "l = [0,0]\n",
    "for i in range(100000):\n",
    "    l[run(Elysia(), Mobius())] += 1\n",
    "print(l)"
   ]
  },
  {
   "cell_type": "markdown",
   "metadata": {},
   "source": [
    "# Day 2"
   ]
  },
  {
   "cell_type": "code",
   "execution_count": 17,
   "metadata": {},
   "outputs": [
    {
     "name": "stdout",
     "output_type": "stream",
     "text": [
      "[50419, 49581]\n"
     ]
    }
   ],
   "source": [
    "l = [0,0]\n",
    "for i in range(100000):\n",
    "    l[run(Pardofelis(), Aponia())] += 1\n",
    "print(l)"
   ]
  },
  {
   "cell_type": "code",
   "execution_count": 45,
   "metadata": {},
   "outputs": [
    {
     "name": "stdout",
     "output_type": "stream",
     "text": [
      "[56837, 43163]\n"
     ]
    }
   ],
   "source": [
    "l = [0,0]\n",
    "for i in range(100000):\n",
    "    p2 = Pardofelis()\n",
    "    p1 = Griseo(p2)\n",
    "    l[run(p2, p1)] += 1\n",
    "print(l[::-1])"
   ]
  },
  {
   "cell_type": "code",
   "execution_count": 23,
   "metadata": {},
   "outputs": [
    {
     "name": "stdout",
     "output_type": "stream",
     "text": [
      "[55117, 44883]\n"
     ]
    }
   ],
   "source": [
    "l = [0,0]\n",
    "for i in range(100000):\n",
    "    p1 = Aponia()\n",
    "    p2 = Griseo(p1)\n",
    "    l[run(p1, p2)] += 1\n",
    "print(l)"
   ]
  },
  {
   "cell_type": "markdown",
   "metadata": {},
   "source": [
    "# Day 1"
   ]
  },
  {
   "cell_type": "code",
   "execution_count": 20,
   "metadata": {},
   "outputs": [
    {
     "name": "stdout",
     "output_type": "stream",
     "text": [
      "[61128, 38872]\n"
     ]
    }
   ],
   "source": [
    "l = [0,0]\n",
    "for i in range(100000):\n",
    "    l[run(V2V(), Kosma())] += 1\n",
    "print(l)"
   ]
  },
  {
   "cell_type": "code",
   "execution_count": 21,
   "metadata": {},
   "outputs": [
    {
     "name": "stdout",
     "output_type": "stream",
     "text": [
      "[48884, 51116]\n"
     ]
    }
   ],
   "source": [
    "l = [0,0]\n",
    "for i in range(100000):\n",
    "    l[run(Kosma(), Kevin())] += 1\n",
    "print(l)"
   ]
  },
  {
   "cell_type": "code",
   "execution_count": 22,
   "metadata": {},
   "outputs": [
    {
     "name": "stdout",
     "output_type": "stream",
     "text": [
      "[34941, 65059]\n"
     ]
    }
   ],
   "source": [
    "l = [0,0]\n",
    "for i in range(100000):\n",
    "    l[run(Kevin(), V2V())] += 1\n",
    "print(l)"
   ]
  }
 ],
 "metadata": {
  "kernelspec": {
   "display_name": "Python 3",
   "language": "python",
   "name": "python3"
  },
  "language_info": {
   "codemirror_mode": {
    "name": "ipython",
    "version": 3
   },
   "file_extension": ".py",
   "mimetype": "text/x-python",
   "name": "python",
   "nbconvert_exporter": "python",
   "pygments_lexer": "ipython3",
   "version": "3.6.8"
  }
 },
 "nbformat": 4,
 "nbformat_minor": 2
}
